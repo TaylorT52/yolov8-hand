{
 "cells": [
  {
   "cell_type": "code",
   "execution_count": 1,
   "metadata": {},
   "outputs": [
    {
     "name": "stdout",
     "output_type": "stream",
     "text": [
      "Defaulting to user installation because normal site-packages is not writeable\n",
      "Requirement already satisfied: ultralytics in /Users/taylor/Library/Python/3.9/lib/python/site-packages (8.1.4)\n",
      "Requirement already satisfied: matplotlib>=3.3.0 in /Users/taylor/Library/Python/3.9/lib/python/site-packages (from ultralytics) (3.8.2)\n",
      "Requirement already satisfied: numpy>=1.22.2 in /Users/taylor/Library/Python/3.9/lib/python/site-packages (from ultralytics) (1.26.3)\n",
      "Requirement already satisfied: opencv-python>=4.6.0 in /Users/taylor/Library/Python/3.9/lib/python/site-packages (from ultralytics) (4.9.0.80)\n",
      "Requirement already satisfied: pillow>=7.1.2 in /Users/taylor/Library/Python/3.9/lib/python/site-packages (from ultralytics) (10.2.0)\n",
      "Requirement already satisfied: pyyaml>=5.3.1 in /Users/taylor/Library/Python/3.9/lib/python/site-packages (from ultralytics) (6.0.1)\n",
      "Requirement already satisfied: requests>=2.23.0 in /Users/taylor/Library/Python/3.9/lib/python/site-packages (from ultralytics) (2.31.0)\n",
      "Requirement already satisfied: scipy>=1.4.1 in /Users/taylor/Library/Python/3.9/lib/python/site-packages (from ultralytics) (1.12.0)\n",
      "Requirement already satisfied: torch>=1.8.0 in /Users/taylor/Library/Python/3.9/lib/python/site-packages (from ultralytics) (2.1.2)\n",
      "Requirement already satisfied: torchvision>=0.9.0 in /Users/taylor/Library/Python/3.9/lib/python/site-packages (from ultralytics) (0.16.2)\n",
      "Requirement already satisfied: tqdm>=4.64.0 in /Users/taylor/Library/Python/3.9/lib/python/site-packages (from ultralytics) (4.66.1)\n",
      "Requirement already satisfied: psutil in /Users/taylor/Library/Python/3.9/lib/python/site-packages (from ultralytics) (5.9.7)\n",
      "Requirement already satisfied: py-cpuinfo in /Users/taylor/Library/Python/3.9/lib/python/site-packages (from ultralytics) (9.0.0)\n",
      "Requirement already satisfied: thop>=0.1.1 in /Users/taylor/Library/Python/3.9/lib/python/site-packages (from ultralytics) (0.1.1.post2209072238)\n",
      "Requirement already satisfied: pandas>=1.1.4 in /Users/taylor/Library/Python/3.9/lib/python/site-packages (from ultralytics) (2.1.4)\n",
      "Requirement already satisfied: seaborn>=0.11.0 in /Users/taylor/Library/Python/3.9/lib/python/site-packages (from ultralytics) (0.13.1)\n",
      "Requirement already satisfied: contourpy>=1.0.1 in /Users/taylor/Library/Python/3.9/lib/python/site-packages (from matplotlib>=3.3.0->ultralytics) (1.2.0)\n",
      "Requirement already satisfied: cycler>=0.10 in /Users/taylor/Library/Python/3.9/lib/python/site-packages (from matplotlib>=3.3.0->ultralytics) (0.12.1)\n",
      "Requirement already satisfied: fonttools>=4.22.0 in /Users/taylor/Library/Python/3.9/lib/python/site-packages (from matplotlib>=3.3.0->ultralytics) (4.47.2)\n",
      "Requirement already satisfied: kiwisolver>=1.3.1 in /Users/taylor/Library/Python/3.9/lib/python/site-packages (from matplotlib>=3.3.0->ultralytics) (1.4.5)\n",
      "Requirement already satisfied: packaging>=20.0 in /Users/taylor/Library/Python/3.9/lib/python/site-packages (from matplotlib>=3.3.0->ultralytics) (23.2)\n",
      "Requirement already satisfied: pyparsing>=2.3.1 in /Users/taylor/Library/Python/3.9/lib/python/site-packages (from matplotlib>=3.3.0->ultralytics) (3.1.1)\n",
      "Requirement already satisfied: python-dateutil>=2.7 in /Users/taylor/Library/Python/3.9/lib/python/site-packages (from matplotlib>=3.3.0->ultralytics) (2.8.2)\n",
      "Requirement already satisfied: importlib-resources>=3.2.0 in /Users/taylor/Library/Python/3.9/lib/python/site-packages (from matplotlib>=3.3.0->ultralytics) (6.1.1)\n",
      "Requirement already satisfied: pytz>=2020.1 in /Users/taylor/Library/Python/3.9/lib/python/site-packages (from pandas>=1.1.4->ultralytics) (2023.3.post1)\n",
      "Requirement already satisfied: tzdata>=2022.1 in /Users/taylor/Library/Python/3.9/lib/python/site-packages (from pandas>=1.1.4->ultralytics) (2023.4)\n",
      "Requirement already satisfied: charset-normalizer<4,>=2 in /Users/taylor/Library/Python/3.9/lib/python/site-packages (from requests>=2.23.0->ultralytics) (3.3.2)\n",
      "Requirement already satisfied: idna<4,>=2.5 in /Users/taylor/Library/Python/3.9/lib/python/site-packages (from requests>=2.23.0->ultralytics) (3.6)\n",
      "Requirement already satisfied: urllib3<3,>=1.21.1 in /Users/taylor/Library/Python/3.9/lib/python/site-packages (from requests>=2.23.0->ultralytics) (2.1.0)\n",
      "Requirement already satisfied: certifi>=2017.4.17 in /Users/taylor/Library/Python/3.9/lib/python/site-packages (from requests>=2.23.0->ultralytics) (2023.11.17)\n",
      "Requirement already satisfied: filelock in /Users/taylor/Library/Python/3.9/lib/python/site-packages (from torch>=1.8.0->ultralytics) (3.13.1)\n",
      "Requirement already satisfied: typing-extensions in /Users/taylor/Library/Python/3.9/lib/python/site-packages (from torch>=1.8.0->ultralytics) (4.9.0)\n",
      "Requirement already satisfied: sympy in /Users/taylor/Library/Python/3.9/lib/python/site-packages (from torch>=1.8.0->ultralytics) (1.12)\n",
      "Requirement already satisfied: networkx in /Users/taylor/Library/Python/3.9/lib/python/site-packages (from torch>=1.8.0->ultralytics) (3.2.1)\n",
      "Requirement already satisfied: jinja2 in /Users/taylor/Library/Python/3.9/lib/python/site-packages (from torch>=1.8.0->ultralytics) (3.1.3)\n",
      "Requirement already satisfied: fsspec in /Users/taylor/Library/Python/3.9/lib/python/site-packages (from torch>=1.8.0->ultralytics) (2023.12.2)\n",
      "Requirement already satisfied: zipp>=3.1.0 in /Users/taylor/Library/Python/3.9/lib/python/site-packages (from importlib-resources>=3.2.0->matplotlib>=3.3.0->ultralytics) (3.17.0)\n",
      "Requirement already satisfied: six>=1.5 in /Library/Frameworks/Python.framework/Versions/3.9/lib/python3.9/site-packages (from python-dateutil>=2.7->matplotlib>=3.3.0->ultralytics) (1.16.0)\n",
      "Requirement already satisfied: MarkupSafe>=2.0 in /Users/taylor/Library/Python/3.9/lib/python/site-packages (from jinja2->torch>=1.8.0->ultralytics) (2.1.4)\n",
      "Requirement already satisfied: mpmath>=0.19 in /Users/taylor/Library/Python/3.9/lib/python/site-packages (from sympy->torch>=1.8.0->ultralytics) (1.3.0)\n"
     ]
    }
   ],
   "source": [
    "!pip install ultralytics"
   ]
  },
  {
   "cell_type": "code",
   "execution_count": 1,
   "metadata": {},
   "outputs": [],
   "source": [
    "import ultralytics\n",
    "from ultralytics import YOLO\n",
    "import torch"
   ]
  },
  {
   "cell_type": "code",
   "execution_count": 2,
   "metadata": {},
   "outputs": [
    {
     "name": "stdout",
     "output_type": "stream",
     "text": [
      "New https://pypi.org/project/ultralytics/8.1.8 available 😃 Update with 'pip install -U ultralytics'\n",
      "Ultralytics YOLOv8.1.4 🚀 Python-3.9.7 torch-2.1.2 CPU (Apple M1 Pro)\n",
      "\u001b[34m\u001b[1mengine/trainer: \u001b[0mtask=detect, mode=train, model=yolov8n.pt, data=data/data.yaml, epochs=3, time=None, patience=50, batch=16, imgsz=640, save=True, save_period=-1, cache=False, device=None, workers=8, project=None, name=train13, exist_ok=False, pretrained=True, optimizer=auto, verbose=True, seed=0, deterministic=True, single_cls=False, rect=False, cos_lr=False, close_mosaic=10, resume=False, amp=True, fraction=1.0, profile=False, freeze=None, multi_scale=False, overlap_mask=True, mask_ratio=4, dropout=0.0, val=True, split=val, save_json=False, save_hybrid=False, conf=None, iou=0.7, max_det=300, half=False, dnn=False, plots=True, source=None, vid_stride=1, stream_buffer=False, visualize=False, augment=False, agnostic_nms=False, classes=None, retina_masks=False, embed=None, show=False, save_frames=False, save_txt=False, save_conf=False, save_crop=False, show_labels=True, show_conf=True, show_boxes=True, line_width=None, format=torchscript, keras=False, optimize=False, int8=False, dynamic=False, simplify=False, opset=None, workspace=4, nms=False, lr0=0.01, lrf=0.01, momentum=0.937, weight_decay=0.0005, warmup_epochs=3.0, warmup_momentum=0.8, warmup_bias_lr=0.1, box=7.5, cls=0.5, dfl=1.5, pose=12.0, kobj=1.0, label_smoothing=0.0, nbs=64, hsv_h=0.015, hsv_s=0.7, hsv_v=0.4, degrees=0.0, translate=0.1, scale=0.5, shear=0.0, perspective=0.0, flipud=0.0, fliplr=0.5, mosaic=1.0, mixup=0.0, copy_paste=0.0, auto_augment=randaugment, erasing=0.4, crop_fraction=1.0, cfg=None, tracker=botsort.yaml, save_dir=/Users/taylor/runs/detect/train13\n",
      "Overriding model.yaml nc=80 with nc=4\n",
      "\n",
      "                   from  n    params  module                                       arguments                     \n",
      "  0                  -1  1       464  ultralytics.nn.modules.conv.Conv             [3, 16, 3, 2]                 \n",
      "  1                  -1  1      4672  ultralytics.nn.modules.conv.Conv             [16, 32, 3, 2]                \n",
      "  2                  -1  1      7360  ultralytics.nn.modules.block.C2f             [32, 32, 1, True]             \n",
      "  3                  -1  1     18560  ultralytics.nn.modules.conv.Conv             [32, 64, 3, 2]                \n",
      "  4                  -1  2     49664  ultralytics.nn.modules.block.C2f             [64, 64, 2, True]             \n",
      "  5                  -1  1     73984  ultralytics.nn.modules.conv.Conv             [64, 128, 3, 2]               \n",
      "  6                  -1  2    197632  ultralytics.nn.modules.block.C2f             [128, 128, 2, True]           \n",
      "  7                  -1  1    295424  ultralytics.nn.modules.conv.Conv             [128, 256, 3, 2]              \n",
      "  8                  -1  1    460288  ultralytics.nn.modules.block.C2f             [256, 256, 1, True]           \n",
      "  9                  -1  1    164608  ultralytics.nn.modules.block.SPPF            [256, 256, 5]                 \n",
      " 10                  -1  1         0  torch.nn.modules.upsampling.Upsample         [None, 2, 'nearest']          \n",
      " 11             [-1, 6]  1         0  ultralytics.nn.modules.conv.Concat           [1]                           \n",
      " 12                  -1  1    148224  ultralytics.nn.modules.block.C2f             [384, 128, 1]                 \n",
      " 13                  -1  1         0  torch.nn.modules.upsampling.Upsample         [None, 2, 'nearest']          \n",
      " 14             [-1, 4]  1         0  ultralytics.nn.modules.conv.Concat           [1]                           \n",
      " 15                  -1  1     37248  ultralytics.nn.modules.block.C2f             [192, 64, 1]                  \n",
      " 16                  -1  1     36992  ultralytics.nn.modules.conv.Conv             [64, 64, 3, 2]                \n",
      " 17            [-1, 12]  1         0  ultralytics.nn.modules.conv.Concat           [1]                           \n",
      " 18                  -1  1    123648  ultralytics.nn.modules.block.C2f             [192, 128, 1]                 \n",
      " 19                  -1  1    147712  ultralytics.nn.modules.conv.Conv             [128, 128, 3, 2]              \n",
      " 20             [-1, 9]  1         0  ultralytics.nn.modules.conv.Concat           [1]                           \n",
      " 21                  -1  1    493056  ultralytics.nn.modules.block.C2f             [384, 256, 1]                 \n",
      " 22        [15, 18, 21]  1    752092  ultralytics.nn.modules.head.Detect           [4, [64, 128, 256]]           \n"
     ]
    },
    {
     "name": "stderr",
     "output_type": "stream",
     "text": [
      "[W NNPACK.cpp:64] Could not initialize NNPACK! Reason: Unsupported hardware.\n"
     ]
    },
    {
     "name": "stdout",
     "output_type": "stream",
     "text": [
      "Model summary: 225 layers, 3011628 parameters, 3011612 gradients, 8.2 GFLOPs\n",
      "\n",
      "Transferred 319/355 items from pretrained weights\n",
      "Freezing layer 'model.22.dfl.conv.weight'\n"
     ]
    },
    {
     "name": "stderr",
     "output_type": "stream",
     "text": [
      "\u001b[34m\u001b[1mtrain: \u001b[0mScanning /Users/taylor/Desktop/yolov8-hand/yolov8-hand/data/train/labels.cache... 3840 images, 10 backgrounds, 0 corrupt: 100%|██████████| 3840/3840 [00:00<?, ?it/s]\n",
      "\u001b[34m\u001b[1mval: \u001b[0mScanning /Users/taylor/Desktop/yolov8-hand/yolov8-hand/data/valid/labels.cache... 480 images, 1 backgrounds, 0 corrupt: 100%|██████████| 480/480 [00:00<?, ?it/s]\n"
     ]
    },
    {
     "name": "stdout",
     "output_type": "stream",
     "text": [
      "Plotting labels to /Users/taylor/runs/detect/train13/labels.jpg... \n",
      "\u001b[34m\u001b[1moptimizer:\u001b[0m 'optimizer=auto' found, ignoring 'lr0=0.01' and 'momentum=0.937' and determining best 'optimizer', 'lr0' and 'momentum' automatically... \n",
      "\u001b[34m\u001b[1moptimizer:\u001b[0m AdamW(lr=0.00125, momentum=0.9) with parameter groups 57 weight(decay=0.0), 64 weight(decay=0.0005), 63 bias(decay=0.0)\n",
      "Image sizes 640 train, 640 val\n",
      "Using 0 dataloader workers\n",
      "Logging results to \u001b[1m/Users/taylor/runs/detect/train13\u001b[0m\n",
      "Starting training for 3 epochs...\n",
      "\n",
      "      Epoch    GPU_mem   box_loss   cls_loss   dfl_loss  Instances       Size\n"
     ]
    },
    {
     "name": "stderr",
     "output_type": "stream",
     "text": [
      "        1/3         0G       1.12      1.902      1.125        106        640: 100%|██████████| 240/240 [23:40<00:00,  5.92s/it]\n",
      "                 Class     Images  Instances      Box(P          R      mAP50  mAP50-95): 100%|██████████| 15/15 [00:30<00:00,  2.03s/it]"
     ]
    },
    {
     "name": "stdout",
     "output_type": "stream",
     "text": [
      "                   all        480       1515      0.591      0.747      0.766      0.546\n"
     ]
    },
    {
     "name": "stderr",
     "output_type": "stream",
     "text": [
      "\n"
     ]
    },
    {
     "name": "stdout",
     "output_type": "stream",
     "text": [
      "\n",
      "      Epoch    GPU_mem   box_loss   cls_loss   dfl_loss  Instances       Size\n"
     ]
    },
    {
     "name": "stderr",
     "output_type": "stream",
     "text": [
      "        2/3         0G      1.022      1.083       1.06         79        640: 100%|██████████| 240/240 [23:25<00:00,  5.86s/it]\n",
      "                 Class     Images  Instances      Box(P          R      mAP50  mAP50-95): 100%|██████████| 15/15 [00:29<00:00,  1.97s/it]"
     ]
    },
    {
     "name": "stdout",
     "output_type": "stream",
     "text": [
      "                   all        480       1515      0.817      0.784      0.852      0.624\n"
     ]
    },
    {
     "name": "stderr",
     "output_type": "stream",
     "text": [
      "\n"
     ]
    },
    {
     "name": "stdout",
     "output_type": "stream",
     "text": [
      "\n",
      "      Epoch    GPU_mem   box_loss   cls_loss   dfl_loss  Instances       Size\n"
     ]
    },
    {
     "name": "stderr",
     "output_type": "stream",
     "text": [
      "        3/3         0G     0.9738     0.8565      1.042         91        640: 100%|██████████| 240/240 [22:24<00:00,  5.60s/it]\n",
      "                 Class     Images  Instances      Box(P          R      mAP50  mAP50-95): 100%|██████████| 15/15 [00:29<00:00,  1.99s/it]"
     ]
    },
    {
     "name": "stdout",
     "output_type": "stream",
     "text": [
      "                   all        480       1515      0.912      0.889      0.943       0.71\n"
     ]
    },
    {
     "name": "stderr",
     "output_type": "stream",
     "text": [
      "\n"
     ]
    },
    {
     "name": "stdout",
     "output_type": "stream",
     "text": [
      "\n",
      "3 epochs completed in 1.184 hours.\n",
      "Optimizer stripped from /Users/taylor/runs/detect/train13/weights/last.pt, 6.2MB\n",
      "Optimizer stripped from /Users/taylor/runs/detect/train13/weights/best.pt, 6.2MB\n",
      "\n",
      "Validating /Users/taylor/runs/detect/train13/weights/best.pt...\n",
      "Ultralytics YOLOv8.1.4 🚀 Python-3.9.7 torch-2.1.2 CPU (Apple M1 Pro)\n",
      "Model summary (fused): 168 layers, 3006428 parameters, 0 gradients, 8.1 GFLOPs\n"
     ]
    },
    {
     "name": "stderr",
     "output_type": "stream",
     "text": [
      "                 Class     Images  Instances      Box(P          R      mAP50  mAP50-95): 100%|██████████| 15/15 [00:29<00:00,  1.94s/it]\n"
     ]
    },
    {
     "name": "stdout",
     "output_type": "stream",
     "text": [
      "                   all        480       1515      0.913      0.889      0.943       0.71\n",
      "                myleft        480        262      0.878      0.802      0.897      0.666\n",
      "               myright        480        348      0.889      0.917      0.944       0.72\n",
      "              yourleft        480        455      0.928       0.93      0.966      0.718\n",
      "             yourright        480        450      0.956      0.907      0.963      0.737\n",
      "Speed: 1.4ms preprocess, 51.8ms inference, 0.0ms loss, 0.6ms postprocess per image\n",
      "Results saved to \u001b[1m/Users/taylor/runs/detect/train13\u001b[0m\n",
      "Ultralytics YOLOv8.1.4 🚀 Python-3.9.7 torch-2.1.2 CPU (Apple M1 Pro)\n",
      "Model summary (fused): 168 layers, 3006428 parameters, 0 gradients, 8.1 GFLOPs\n"
     ]
    },
    {
     "name": "stderr",
     "output_type": "stream",
     "text": [
      "\u001b[34m\u001b[1mval: \u001b[0mScanning /Users/taylor/Desktop/yolov8-hand/yolov8-hand/data/valid/labels.cache... 480 images, 1 backgrounds, 0 corrupt: 100%|██████████| 480/480 [00:00<?, ?it/s]\n",
      "                 Class     Images  Instances      Box(P          R      mAP50  mAP50-95): 100%|██████████| 30/30 [00:26<00:00,  1.11it/s]\n"
     ]
    },
    {
     "name": "stdout",
     "output_type": "stream",
     "text": [
      "                   all        480       1515      0.913      0.889      0.943       0.71\n",
      "                myleft        480        262      0.878      0.802      0.897      0.666\n",
      "               myright        480        348      0.889      0.917      0.944       0.72\n",
      "              yourleft        480        455      0.928       0.93      0.966      0.718\n",
      "             yourright        480        450      0.956      0.907      0.963      0.737\n",
      "Speed: 0.3ms preprocess, 49.0ms inference, 0.0ms loss, 0.3ms postprocess per image\n",
      "Results saved to \u001b[1m/Users/taylor/runs/detect/train132\u001b[0m\n"
     ]
    }
   ],
   "source": [
    "# Load a model\n",
    "model = YOLO(\"yolov8n.pt\")  # load a pretrained model (recommended for training)\n",
    "\n",
    "# Use the model\n",
    "model.train(data=\"data/data.yaml\", epochs=3)  # train the model\n",
    "metrics = model.val()  # evaluate model performance on the validation set\n",
    "torch.save(model.state_dict(), 'yolov8n-custom-weights.pt')"
   ]
  },
  {
   "cell_type": "code",
   "execution_count": 17,
   "metadata": {},
   "outputs": [
    {
     "ename": "RuntimeError",
     "evalue": "Error(s) in loading state_dict for YOLO:\n\tMissing key(s) in state_dict: \"model.model.0.bn.weight\", \"model.model.0.bn.bias\", \"model.model.0.bn.running_mean\", \"model.model.0.bn.running_var\", \"model.model.1.bn.weight\", \"model.model.1.bn.bias\", \"model.model.1.bn.running_mean\", \"model.model.1.bn.running_var\", \"model.model.2.cv1.bn.weight\", \"model.model.2.cv1.bn.bias\", \"model.model.2.cv1.bn.running_mean\", \"model.model.2.cv1.bn.running_var\", \"model.model.2.cv2.bn.weight\", \"model.model.2.cv2.bn.bias\", \"model.model.2.cv2.bn.running_mean\", \"model.model.2.cv2.bn.running_var\", \"model.model.2.m.0.cv1.bn.weight\", \"model.model.2.m.0.cv1.bn.bias\", \"model.model.2.m.0.cv1.bn.running_mean\", \"model.model.2.m.0.cv1.bn.running_var\", \"model.model.2.m.0.cv2.bn.weight\", \"model.model.2.m.0.cv2.bn.bias\", \"model.model.2.m.0.cv2.bn.running_mean\", \"model.model.2.m.0.cv2.bn.running_var\", \"model.model.3.bn.weight\", \"model.model.3.bn.bias\", \"model.model.3.bn.running_mean\", \"model.model.3.bn.running_var\", \"model.model.4.cv1.bn.weight\", \"model.model.4.cv1.bn.bias\", \"model.model.4.cv1.bn.running_mean\", \"model.model.4.cv1.bn.running_var\", \"model.model.4.cv2.bn.weight\", \"model.model.4.cv2.bn.bias\", \"model.model.4.cv2.bn.running_mean\", \"model.model.4.cv2.bn.running_var\", \"model.model.4.m.0.cv1.bn.weight\", \"model.model.4.m.0.cv1.bn.bias\", \"model.model.4.m.0.cv1.bn.running_mean\", \"model.model.4.m.0.cv1.bn.running_var\", \"model.model.4.m.0.cv2.bn.weight\", \"model.model.4.m.0.cv2.bn.bias\", \"model.model.4.m.0.cv2.bn.running_mean\", \"model.model.4.m.0.cv2.bn.running_var\", \"model.model.4.m.1.cv1.bn.weight\", \"model.model.4.m.1.cv1.bn.bias\", \"model.model.4.m.1.cv1.bn.running_mean\", \"model.model.4.m.1.cv1.bn.running_var\", \"model.model.4.m.1.cv2.bn.weight\", \"model.model.4.m.1.cv2.bn.bias\", \"model.model.4.m.1.cv2.bn.running_mean\", \"model.model.4.m.1.cv2.bn.running_var\", \"model.model.5.bn.weight\", \"model.model.5.bn.bias\", \"model.model.5.bn.running_mean\", \"model.model.5.bn.running_var\", \"model.model.6.cv1.bn.weight\", \"model.model.6.cv1.bn.bias\", \"model.model.6.cv1.bn.running_mean\", \"model.model.6.cv1.bn.running_var\", \"model.model.6.cv2.bn.weight\", \"model.model.6.cv2.bn.bias\", \"model.model.6.cv2.bn.running_mean\", \"model.model.6.cv2.bn.running_var\", \"model.model.6.m.0.cv1.bn.weight\", \"model.model.6.m.0.cv1.bn.bias\", \"model.model.6.m.0.cv1.bn.running_mean\", \"model.model.6.m.0.cv1.bn.running_var\", \"model.model.6.m.0.cv2.bn.weight\", \"model.model.6.m.0.cv2.bn.bias\", \"model.model.6.m.0.cv2.bn.running_mean\", \"model.model.6.m.0.cv2.bn.running_var\", \"model.model.6.m.1.cv1.bn.weight\", \"model.model.6.m.1.cv1.bn.bias\", \"model.model.6.m.1.cv1.bn.running_mean\", \"model.model.6.m.1.cv1.bn.running_var\", \"model.model.6.m.1.cv2.bn.weight\", \"model.model.6.m.1.cv2.bn.bias\", \"model.model.6.m.1.cv2.bn.running_mean\", \"model.model.6.m.1.cv2.bn.running_var\", \"model.model.7.bn.weight\", \"model.model.7.bn.bias\", \"model.model.7.bn.running_mean\", \"model.model.7.bn.running_var\", \"model.model.8.cv1.bn.weight\", \"model.model.8.cv1.bn.bias\", \"model.model.8.cv1.bn.running_mean\", \"model.model.8.cv1.bn.running_var\", \"model.model.8.cv2.bn.weight\", \"model.model.8.cv2.bn.bias\", \"model.model.8.cv2.bn.running_mean\", \"model.model.8.cv2.bn.running_var\", \"model.model.8.m.0.cv1.bn.weight\", \"model.model.8.m.0.cv1.bn.bias\", \"model.model.8.m.0.cv1.bn.running_mean\", \"model.model.8.m.0.cv1.bn.running_var\", \"model.model.8.m.0.cv2.bn.weight\", \"model.model.8.m.0.cv2.bn.bias\", \"model.model.8.m.0.cv2.bn.running_mean\", \"model.model.8.m.0.cv2.bn.running_var\", \"model.model.9.cv1.bn.weight\", \"model.model.9.cv1.bn.bias\", \"model.model.9.cv1.bn.running_mean\", \"model.model.9.cv1.bn.running_var\", \"model.model.9.cv2.bn.weight\", \"model.model.9.cv2.bn.bias\", \"model.model.9.cv2.bn.running_mean\", \"model.model.9.cv2.bn.running_var\", \"model.model.12.cv1.bn.weight\", \"model.model.12.cv1.bn.bias\", \"model.model.12.cv1.bn.running_mean\", \"model.model.12.cv1.bn.running_var\", \"model.model.12.cv2.bn.weight\", \"model.model.12.cv2.bn.bias\", \"model.model.12.cv2.bn.running_mean\", \"model.model.12.cv2.bn.running_var\", \"model.model.12.m.0.cv1.bn.weight\", \"model.model.12.m.0.cv1.bn.bias\", \"model.model.12.m.0.cv1.bn.running_mean\", \"model.model.12.m.0.cv1.bn.running_var\", \"model.model.12.m.0.cv2.bn.weight\", \"model.model.12.m.0.cv2.bn.bias\", \"model.model.12.m.0.cv2.bn.running_mean\", \"model.model.12.m.0.cv2.bn.running_var\", \"model.model.15.cv1.bn.weight\", \"model.model.15.cv1.bn.bias\", \"model.model.15.cv1.bn.running_mean\", \"model.model.15.cv1.bn.running_var\", \"model.model.15.cv2.bn.weight\", \"model.model.15.cv2.bn.bias\", \"model.model.15.cv2.bn.running_mean\", \"model.model.15.cv2.bn.running_var\", \"model.model.15.m.0.cv1.bn.weight\", \"model.model.15.m.0.cv1.bn.bias\", \"model.model.15.m.0.cv1.bn.running_mean\", \"model.model.15.m.0.cv1.bn.running_var\", \"model.model.15.m.0.cv2.bn.weight\", \"model.model.15.m.0.cv2.bn.bias\", \"model.model.15.m.0.cv2.bn.running_mean\", \"model.model.15.m.0.cv2.bn.running_var\", \"model.model.16.bn.weight\", \"model.model.16.bn.bias\", \"model.model.16.bn.running_mean\", \"model.model.16.bn.running_var\", \"model.model.18.cv1.bn.weight\", \"model.model.18.cv1.bn.bias\", \"model.model.18.cv1.bn.running_mean\", \"model.model.18.cv1.bn.running_var\", \"model.model.18.cv2.bn.weight\", \"model.model.18.cv2.bn.bias\", \"model.model.18.cv2.bn.running_mean\", \"model.model.18.cv2.bn.running_var\", \"model.model.18.m.0.cv1.bn.weight\", \"model.model.18.m.0.cv1.bn.bias\", \"model.model.18.m.0.cv1.bn.running_mean\", \"model.model.18.m.0.cv1.bn.running_var\", \"model.model.18.m.0.cv2.bn.weight\", \"model.model.18.m.0.cv2.bn.bias\", \"model.model.18.m.0.cv2.bn.running_mean\", \"model.model.18.m.0.cv2.bn.running_var\", \"model.model.19.bn.weight\", \"model.model.19.bn.bias\", \"model.model.19.bn.running_mean\", \"model.model.19.bn.running_var\", \"model.model.21.cv1.bn.weight\", \"model.model.21.cv1.bn.bias\", \"model.model.21.cv1.bn.running_mean\", \"model.model.21.cv1.bn.running_var\", \"model.model.21.cv2.bn.weight\", \"model.model.21.cv2.bn.bias\", \"model.model.21.cv2.bn.running_mean\", \"model.model.21.cv2.bn.running_var\", \"model.model.21.m.0.cv1.bn.weight\", \"model.model.21.m.0.cv1.bn.bias\", \"model.model.21.m.0.cv1.bn.running_mean\", \"model.model.21.m.0.cv1.bn.running_var\", \"model.model.21.m.0.cv2.bn.weight\", \"model.model.21.m.0.cv2.bn.bias\", \"model.model.21.m.0.cv2.bn.running_mean\", \"model.model.21.m.0.cv2.bn.running_var\", \"model.model.22.cv2.0.0.bn.weight\", \"model.model.22.cv2.0.0.bn.bias\", \"model.model.22.cv2.0.0.bn.running_mean\", \"model.model.22.cv2.0.0.bn.running_var\", \"model.model.22.cv2.0.1.bn.weight\", \"model.model.22.cv2.0.1.bn.bias\", \"model.model.22.cv2.0.1.bn.running_mean\", \"model.model.22.cv2.0.1.bn.running_var\", \"model.model.22.cv2.1.0.bn.weight\", \"model.model.22.cv2.1.0.bn.bias\", \"model.model.22.cv2.1.0.bn.running_mean\", \"model.model.22.cv2.1.0.bn.running_var\", \"model.model.22.cv2.1.1.bn.weight\", \"model.model.22.cv2.1.1.bn.bias\", \"model.model.22.cv2.1.1.bn.running_mean\", \"model.model.22.cv2.1.1.bn.running_var\", \"model.model.22.cv2.2.0.bn.weight\", \"model.model.22.cv2.2.0.bn.bias\", \"model.model.22.cv2.2.0.bn.running_mean\", \"model.model.22.cv2.2.0.bn.running_var\", \"model.model.22.cv2.2.1.bn.weight\", \"model.model.22.cv2.2.1.bn.bias\", \"model.model.22.cv2.2.1.bn.running_mean\", \"model.model.22.cv2.2.1.bn.running_var\", \"model.model.22.cv3.0.0.bn.weight\", \"model.model.22.cv3.0.0.bn.bias\", \"model.model.22.cv3.0.0.bn.running_mean\", \"model.model.22.cv3.0.0.bn.running_var\", \"model.model.22.cv3.0.1.bn.weight\", \"model.model.22.cv3.0.1.bn.bias\", \"model.model.22.cv3.0.1.bn.running_mean\", \"model.model.22.cv3.0.1.bn.running_var\", \"model.model.22.cv3.1.0.bn.weight\", \"model.model.22.cv3.1.0.bn.bias\", \"model.model.22.cv3.1.0.bn.running_mean\", \"model.model.22.cv3.1.0.bn.running_var\", \"model.model.22.cv3.1.1.bn.weight\", \"model.model.22.cv3.1.1.bn.bias\", \"model.model.22.cv3.1.1.bn.running_mean\", \"model.model.22.cv3.1.1.bn.running_var\", \"model.model.22.cv3.2.0.bn.weight\", \"model.model.22.cv3.2.0.bn.bias\", \"model.model.22.cv3.2.0.bn.running_mean\", \"model.model.22.cv3.2.0.bn.running_var\", \"model.model.22.cv3.2.1.bn.weight\", \"model.model.22.cv3.2.1.bn.bias\", \"model.model.22.cv3.2.1.bn.running_mean\", \"model.model.22.cv3.2.1.bn.running_var\". \n\tUnexpected key(s) in state_dict: \"model.model.0.conv.bias\", \"model.model.1.conv.bias\", \"model.model.2.cv1.conv.bias\", \"model.model.2.cv2.conv.bias\", \"model.model.2.m.0.cv1.conv.bias\", \"model.model.2.m.0.cv2.conv.bias\", \"model.model.3.conv.bias\", \"model.model.4.cv1.conv.bias\", \"model.model.4.cv2.conv.bias\", \"model.model.4.m.0.cv1.conv.bias\", \"model.model.4.m.0.cv2.conv.bias\", \"model.model.4.m.1.cv1.conv.bias\", \"model.model.4.m.1.cv2.conv.bias\", \"model.model.5.conv.bias\", \"model.model.6.cv1.conv.bias\", \"model.model.6.cv2.conv.bias\", \"model.model.6.m.0.cv1.conv.bias\", \"model.model.6.m.0.cv2.conv.bias\", \"model.model.6.m.1.cv1.conv.bias\", \"model.model.6.m.1.cv2.conv.bias\", \"model.model.7.conv.bias\", \"model.model.8.cv1.conv.bias\", \"model.model.8.cv2.conv.bias\", \"model.model.8.m.0.cv1.conv.bias\", \"model.model.8.m.0.cv2.conv.bias\", \"model.model.9.cv1.conv.bias\", \"model.model.9.cv2.conv.bias\", \"model.model.12.cv1.conv.bias\", \"model.model.12.cv2.conv.bias\", \"model.model.12.m.0.cv1.conv.bias\", \"model.model.12.m.0.cv2.conv.bias\", \"model.model.15.cv1.conv.bias\", \"model.model.15.cv2.conv.bias\", \"model.model.15.m.0.cv1.conv.bias\", \"model.model.15.m.0.cv2.conv.bias\", \"model.model.16.conv.bias\", \"model.model.18.cv1.conv.bias\", \"model.model.18.cv2.conv.bias\", \"model.model.18.m.0.cv1.conv.bias\", \"model.model.18.m.0.cv2.conv.bias\", \"model.model.19.conv.bias\", \"model.model.21.cv1.conv.bias\", \"model.model.21.cv2.conv.bias\", \"model.model.21.m.0.cv1.conv.bias\", \"model.model.21.m.0.cv2.conv.bias\", \"model.model.22.cv2.0.0.conv.bias\", \"model.model.22.cv2.0.1.conv.bias\", \"model.model.22.cv2.1.0.conv.bias\", \"model.model.22.cv2.1.1.conv.bias\", \"model.model.22.cv2.2.0.conv.bias\", \"model.model.22.cv2.2.1.conv.bias\", \"model.model.22.cv3.0.0.conv.bias\", \"model.model.22.cv3.0.1.conv.bias\", \"model.model.22.cv3.1.0.conv.bias\", \"model.model.22.cv3.1.1.conv.bias\", \"model.model.22.cv3.2.0.conv.bias\", \"model.model.22.cv3.2.1.conv.bias\". \n\tsize mismatch for model.model.22.cv3.0.0.conv.weight: copying a param with shape torch.Size([64, 64, 3, 3]) from checkpoint, the shape in current model is torch.Size([80, 64, 3, 3]).\n\tsize mismatch for model.model.22.cv3.0.1.conv.weight: copying a param with shape torch.Size([64, 64, 3, 3]) from checkpoint, the shape in current model is torch.Size([80, 80, 3, 3]).\n\tsize mismatch for model.model.22.cv3.0.2.weight: copying a param with shape torch.Size([4, 64, 1, 1]) from checkpoint, the shape in current model is torch.Size([80, 80, 1, 1]).\n\tsize mismatch for model.model.22.cv3.0.2.bias: copying a param with shape torch.Size([4]) from checkpoint, the shape in current model is torch.Size([80]).\n\tsize mismatch for model.model.22.cv3.1.0.conv.weight: copying a param with shape torch.Size([64, 128, 3, 3]) from checkpoint, the shape in current model is torch.Size([80, 128, 3, 3]).\n\tsize mismatch for model.model.22.cv3.1.1.conv.weight: copying a param with shape torch.Size([64, 64, 3, 3]) from checkpoint, the shape in current model is torch.Size([80, 80, 3, 3]).\n\tsize mismatch for model.model.22.cv3.1.2.weight: copying a param with shape torch.Size([4, 64, 1, 1]) from checkpoint, the shape in current model is torch.Size([80, 80, 1, 1]).\n\tsize mismatch for model.model.22.cv3.1.2.bias: copying a param with shape torch.Size([4]) from checkpoint, the shape in current model is torch.Size([80]).\n\tsize mismatch for model.model.22.cv3.2.0.conv.weight: copying a param with shape torch.Size([64, 256, 3, 3]) from checkpoint, the shape in current model is torch.Size([80, 256, 3, 3]).\n\tsize mismatch for model.model.22.cv3.2.1.conv.weight: copying a param with shape torch.Size([64, 64, 3, 3]) from checkpoint, the shape in current model is torch.Size([80, 80, 3, 3]).\n\tsize mismatch for model.model.22.cv3.2.2.weight: copying a param with shape torch.Size([4, 64, 1, 1]) from checkpoint, the shape in current model is torch.Size([80, 80, 1, 1]).\n\tsize mismatch for model.model.22.cv3.2.2.bias: copying a param with shape torch.Size([4]) from checkpoint, the shape in current model is torch.Size([80]).",
     "output_type": "error",
     "traceback": [
      "\u001b[0;31m---------------------------------------------------------------------------\u001b[0m",
      "\u001b[0;31mRuntimeError\u001b[0m                              Traceback (most recent call last)",
      "Cell \u001b[0;32mIn[17], line 4\u001b[0m\n\u001b[1;32m      1\u001b[0m \u001b[39m# model = YOLO(\"yolov8n.pt\")\u001b[39;00m\n\u001b[1;32m      2\u001b[0m \u001b[39m# model.load_state_dict(torch.load('yolov8n-custom-weights.pt'))\u001b[39;00m\n\u001b[1;32m      3\u001b[0m model \u001b[39m=\u001b[39m YOLO(\u001b[39m\"\u001b[39m\u001b[39myolov8n.pt\u001b[39m\u001b[39m\"\u001b[39m)\n\u001b[0;32m----> 4\u001b[0m model\u001b[39m.\u001b[39;49mload_state_dict(torch\u001b[39m.\u001b[39;49mload(\u001b[39m\"\u001b[39;49m\u001b[39myolov8n-custom-weights.pt\u001b[39;49m\u001b[39m\"\u001b[39;49m, map_location\u001b[39m=\u001b[39;49mtorch\u001b[39m.\u001b[39;49mdevice(\u001b[39m'\u001b[39;49m\u001b[39mcpu\u001b[39;49m\u001b[39m'\u001b[39;49m)))\n\u001b[1;32m      5\u001b[0m model\u001b[39m.\u001b[39meval()\n\u001b[1;32m      6\u001b[0m \u001b[39m# results = model.predict(source=\"0\", show=True)\u001b[39;00m\n",
      "File \u001b[0;32m~/Library/Python/3.9/lib/python/site-packages/torch/nn/modules/module.py:2152\u001b[0m, in \u001b[0;36mModule.load_state_dict\u001b[0;34m(self, state_dict, strict, assign)\u001b[0m\n\u001b[1;32m   2147\u001b[0m         error_msgs\u001b[39m.\u001b[39minsert(\n\u001b[1;32m   2148\u001b[0m             \u001b[39m0\u001b[39m, \u001b[39m'\u001b[39m\u001b[39mMissing key(s) in state_dict: \u001b[39m\u001b[39m{}\u001b[39;00m\u001b[39m. \u001b[39m\u001b[39m'\u001b[39m\u001b[39m.\u001b[39mformat(\n\u001b[1;32m   2149\u001b[0m                 \u001b[39m'\u001b[39m\u001b[39m, \u001b[39m\u001b[39m'\u001b[39m\u001b[39m.\u001b[39mjoin(\u001b[39mf\u001b[39m\u001b[39m'\u001b[39m\u001b[39m\"\u001b[39m\u001b[39m{\u001b[39;00mk\u001b[39m}\u001b[39;00m\u001b[39m\"\u001b[39m\u001b[39m'\u001b[39m \u001b[39mfor\u001b[39;00m k \u001b[39min\u001b[39;00m missing_keys)))\n\u001b[1;32m   2151\u001b[0m \u001b[39mif\u001b[39;00m \u001b[39mlen\u001b[39m(error_msgs) \u001b[39m>\u001b[39m \u001b[39m0\u001b[39m:\n\u001b[0;32m-> 2152\u001b[0m     \u001b[39mraise\u001b[39;00m \u001b[39mRuntimeError\u001b[39;00m(\u001b[39m'\u001b[39m\u001b[39mError(s) in loading state_dict for \u001b[39m\u001b[39m{}\u001b[39;00m\u001b[39m:\u001b[39m\u001b[39m\\n\u001b[39;00m\u001b[39m\\t\u001b[39;00m\u001b[39m{}\u001b[39;00m\u001b[39m'\u001b[39m\u001b[39m.\u001b[39mformat(\n\u001b[1;32m   2153\u001b[0m                        \u001b[39mself\u001b[39m\u001b[39m.\u001b[39m\u001b[39m__class__\u001b[39m\u001b[39m.\u001b[39m\u001b[39m__name__\u001b[39m, \u001b[39m\"\u001b[39m\u001b[39m\\n\u001b[39;00m\u001b[39m\\t\u001b[39;00m\u001b[39m\"\u001b[39m\u001b[39m.\u001b[39mjoin(error_msgs)))\n\u001b[1;32m   2154\u001b[0m \u001b[39mreturn\u001b[39;00m _IncompatibleKeys(missing_keys, unexpected_keys)\n",
      "\u001b[0;31mRuntimeError\u001b[0m: Error(s) in loading state_dict for YOLO:\n\tMissing key(s) in state_dict: \"model.model.0.bn.weight\", \"model.model.0.bn.bias\", \"model.model.0.bn.running_mean\", \"model.model.0.bn.running_var\", \"model.model.1.bn.weight\", \"model.model.1.bn.bias\", \"model.model.1.bn.running_mean\", \"model.model.1.bn.running_var\", \"model.model.2.cv1.bn.weight\", \"model.model.2.cv1.bn.bias\", \"model.model.2.cv1.bn.running_mean\", \"model.model.2.cv1.bn.running_var\", \"model.model.2.cv2.bn.weight\", \"model.model.2.cv2.bn.bias\", \"model.model.2.cv2.bn.running_mean\", \"model.model.2.cv2.bn.running_var\", \"model.model.2.m.0.cv1.bn.weight\", \"model.model.2.m.0.cv1.bn.bias\", \"model.model.2.m.0.cv1.bn.running_mean\", \"model.model.2.m.0.cv1.bn.running_var\", \"model.model.2.m.0.cv2.bn.weight\", \"model.model.2.m.0.cv2.bn.bias\", \"model.model.2.m.0.cv2.bn.running_mean\", \"model.model.2.m.0.cv2.bn.running_var\", \"model.model.3.bn.weight\", \"model.model.3.bn.bias\", \"model.model.3.bn.running_mean\", \"model.model.3.bn.running_var\", \"model.model.4.cv1.bn.weight\", \"model.model.4.cv1.bn.bias\", \"model.model.4.cv1.bn.running_mean\", \"model.model.4.cv1.bn.running_var\", \"model.model.4.cv2.bn.weight\", \"model.model.4.cv2.bn.bias\", \"model.model.4.cv2.bn.running_mean\", \"model.model.4.cv2.bn.running_var\", \"model.model.4.m.0.cv1.bn.weight\", \"model.model.4.m.0.cv1.bn.bias\", \"model.model.4.m.0.cv1.bn.running_mean\", \"model.model.4.m.0.cv1.bn.running_var\", \"model.model.4.m.0.cv2.bn.weight\", \"model.model.4.m.0.cv2.bn.bias\", \"model.model.4.m.0.cv2.bn.running_mean\", \"model.model.4.m.0.cv2.bn.running_var\", \"model.model.4.m.1.cv1.bn.weight\", \"model.model.4.m.1.cv1.bn.bias\", \"model.model.4.m.1.cv1.bn.running_mean\", \"model.model.4.m.1.cv1.bn.running_var\", \"model.model.4.m.1.cv2.bn.weight\", \"model.model.4.m.1.cv2.bn.bias\", \"model.model.4.m.1.cv2.bn.running_mean\", \"model.model.4.m.1.cv2.bn.running_var\", \"model.model.5.bn.weight\", \"model.model.5.bn.bias\", \"model.model.5.bn.running_mean\", \"model.model.5.bn.running_var\", \"model.model.6.cv1.bn.weight\", \"model.model.6.cv1.bn.bias\", \"model.model.6.cv1.bn.running_mean\", \"model.model.6.cv1.bn.running_var\", \"model.model.6.cv2.bn.weight\", \"model.model.6.cv2.bn.bias\", \"model.model.6.cv2.bn.running_mean\", \"model.model.6.cv2.bn.running_var\", \"model.model.6.m.0.cv1.bn.weight\", \"model.model.6.m.0.cv1.bn.bias\", \"model.model.6.m.0.cv1.bn.running_mean\", \"model.model.6.m.0.cv1.bn.running_var\", \"model.model.6.m.0.cv2.bn.weight\", \"model.model.6.m.0.cv2.bn.bias\", \"model.model.6.m.0.cv2.bn.running_mean\", \"model.model.6.m.0.cv2.bn.running_var\", \"model.model.6.m.1.cv1.bn.weight\", \"model.model.6.m.1.cv1.bn.bias\", \"model.model.6.m.1.cv1.bn.running_mean\", \"model.model.6.m.1.cv1.bn.running_var\", \"model.model.6.m.1.cv2.bn.weight\", \"model.model.6.m.1.cv2.bn.bias\", \"model.model.6.m.1.cv2.bn.running_mean\", \"model.model.6.m.1.cv2.bn.running_var\", \"model.model.7.bn.weight\", \"model.model.7.bn.bias\", \"model.model.7.bn.running_mean\", \"model.model.7.bn.running_var\", \"model.model.8.cv1.bn.weight\", \"model.model.8.cv1.bn.bias\", \"model.model.8.cv1.bn.running_mean\", \"model.model.8.cv1.bn.running_var\", \"model.model.8.cv2.bn.weight\", \"model.model.8.cv2.bn.bias\", \"model.model.8.cv2.bn.running_mean\", \"model.model.8.cv2.bn.running_var\", \"model.model.8.m.0.cv1.bn.weight\", \"model.model.8.m.0.cv1.bn.bias\", \"model.model.8.m.0.cv1.bn.running_mean\", \"model.model.8.m.0.cv1.bn.running_var\", \"model.model.8.m.0.cv2.bn.weight\", \"model.model.8.m.0.cv2.bn.bias\", \"model.model.8.m.0.cv2.bn.running_mean\", \"model.model.8.m.0.cv2.bn.running_var\", \"model.model.9.cv1.bn.weight\", \"model.model.9.cv1.bn.bias\", \"model.model.9.cv1.bn.running_mean\", \"model.model.9.cv1.bn.running_var\", \"model.model.9.cv2.bn.weight\", \"model.model.9.cv2.bn.bias\", \"model.model.9.cv2.bn.running_mean\", \"model.model.9.cv2.bn.running_var\", \"model.model.12.cv1.bn.weight\", \"model.model.12.cv1.bn.bias\", \"model.model.12.cv1.bn.running_mean\", \"model.model.12.cv1.bn.running_var\", \"model.model.12.cv2.bn.weight\", \"model.model.12.cv2.bn.bias\", \"model.model.12.cv2.bn.running_mean\", \"model.model.12.cv2.bn.running_var\", \"model.model.12.m.0.cv1.bn.weight\", \"model.model.12.m.0.cv1.bn.bias\", \"model.model.12.m.0.cv1.bn.running_mean\", \"model.model.12.m.0.cv1.bn.running_var\", \"model.model.12.m.0.cv2.bn.weight\", \"model.model.12.m.0.cv2.bn.bias\", \"model.model.12.m.0.cv2.bn.running_mean\", \"model.model.12.m.0.cv2.bn.running_var\", \"model.model.15.cv1.bn.weight\", \"model.model.15.cv1.bn.bias\", \"model.model.15.cv1.bn.running_mean\", \"model.model.15.cv1.bn.running_var\", \"model.model.15.cv2.bn.weight\", \"model.model.15.cv2.bn.bias\", \"model.model.15.cv2.bn.running_mean\", \"model.model.15.cv2.bn.running_var\", \"model.model.15.m.0.cv1.bn.weight\", \"model.model.15.m.0.cv1.bn.bias\", \"model.model.15.m.0.cv1.bn.running_mean\", \"model.model.15.m.0.cv1.bn.running_var\", \"model.model.15.m.0.cv2.bn.weight\", \"model.model.15.m.0.cv2.bn.bias\", \"model.model.15.m.0.cv2.bn.running_mean\", \"model.model.15.m.0.cv2.bn.running_var\", \"model.model.16.bn.weight\", \"model.model.16.bn.bias\", \"model.model.16.bn.running_mean\", \"model.model.16.bn.running_var\", \"model.model.18.cv1.bn.weight\", \"model.model.18.cv1.bn.bias\", \"model.model.18.cv1.bn.running_mean\", \"model.model.18.cv1.bn.running_var\", \"model.model.18.cv2.bn.weight\", \"model.model.18.cv2.bn.bias\", \"model.model.18.cv2.bn.running_mean\", \"model.model.18.cv2.bn.running_var\", \"model.model.18.m.0.cv1.bn.weight\", \"model.model.18.m.0.cv1.bn.bias\", \"model.model.18.m.0.cv1.bn.running_mean\", \"model.model.18.m.0.cv1.bn.running_var\", \"model.model.18.m.0.cv2.bn.weight\", \"model.model.18.m.0.cv2.bn.bias\", \"model.model.18.m.0.cv2.bn.running_mean\", \"model.model.18.m.0.cv2.bn.running_var\", \"model.model.19.bn.weight\", \"model.model.19.bn.bias\", \"model.model.19.bn.running_mean\", \"model.model.19.bn.running_var\", \"model.model.21.cv1.bn.weight\", \"model.model.21.cv1.bn.bias\", \"model.model.21.cv1.bn.running_mean\", \"model.model.21.cv1.bn.running_var\", \"model.model.21.cv2.bn.weight\", \"model.model.21.cv2.bn.bias\", \"model.model.21.cv2.bn.running_mean\", \"model.model.21.cv2.bn.running_var\", \"model.model.21.m.0.cv1.bn.weight\", \"model.model.21.m.0.cv1.bn.bias\", \"model.model.21.m.0.cv1.bn.running_mean\", \"model.model.21.m.0.cv1.bn.running_var\", \"model.model.21.m.0.cv2.bn.weight\", \"model.model.21.m.0.cv2.bn.bias\", \"model.model.21.m.0.cv2.bn.running_mean\", \"model.model.21.m.0.cv2.bn.running_var\", \"model.model.22.cv2.0.0.bn.weight\", \"model.model.22.cv2.0.0.bn.bias\", \"model.model.22.cv2.0.0.bn.running_mean\", \"model.model.22.cv2.0.0.bn.running_var\", \"model.model.22.cv2.0.1.bn.weight\", \"model.model.22.cv2.0.1.bn.bias\", \"model.model.22.cv2.0.1.bn.running_mean\", \"model.model.22.cv2.0.1.bn.running_var\", \"model.model.22.cv2.1.0.bn.weight\", \"model.model.22.cv2.1.0.bn.bias\", \"model.model.22.cv2.1.0.bn.running_mean\", \"model.model.22.cv2.1.0.bn.running_var\", \"model.model.22.cv2.1.1.bn.weight\", \"model.model.22.cv2.1.1.bn.bias\", \"model.model.22.cv2.1.1.bn.running_mean\", \"model.model.22.cv2.1.1.bn.running_var\", \"model.model.22.cv2.2.0.bn.weight\", \"model.model.22.cv2.2.0.bn.bias\", \"model.model.22.cv2.2.0.bn.running_mean\", \"model.model.22.cv2.2.0.bn.running_var\", \"model.model.22.cv2.2.1.bn.weight\", \"model.model.22.cv2.2.1.bn.bias\", \"model.model.22.cv2.2.1.bn.running_mean\", \"model.model.22.cv2.2.1.bn.running_var\", \"model.model.22.cv3.0.0.bn.weight\", \"model.model.22.cv3.0.0.bn.bias\", \"model.model.22.cv3.0.0.bn.running_mean\", \"model.model.22.cv3.0.0.bn.running_var\", \"model.model.22.cv3.0.1.bn.weight\", \"model.model.22.cv3.0.1.bn.bias\", \"model.model.22.cv3.0.1.bn.running_mean\", \"model.model.22.cv3.0.1.bn.running_var\", \"model.model.22.cv3.1.0.bn.weight\", \"model.model.22.cv3.1.0.bn.bias\", \"model.model.22.cv3.1.0.bn.running_mean\", \"model.model.22.cv3.1.0.bn.running_var\", \"model.model.22.cv3.1.1.bn.weight\", \"model.model.22.cv3.1.1.bn.bias\", \"model.model.22.cv3.1.1.bn.running_mean\", \"model.model.22.cv3.1.1.bn.running_var\", \"model.model.22.cv3.2.0.bn.weight\", \"model.model.22.cv3.2.0.bn.bias\", \"model.model.22.cv3.2.0.bn.running_mean\", \"model.model.22.cv3.2.0.bn.running_var\", \"model.model.22.cv3.2.1.bn.weight\", \"model.model.22.cv3.2.1.bn.bias\", \"model.model.22.cv3.2.1.bn.running_mean\", \"model.model.22.cv3.2.1.bn.running_var\". \n\tUnexpected key(s) in state_dict: \"model.model.0.conv.bias\", \"model.model.1.conv.bias\", \"model.model.2.cv1.conv.bias\", \"model.model.2.cv2.conv.bias\", \"model.model.2.m.0.cv1.conv.bias\", \"model.model.2.m.0.cv2.conv.bias\", \"model.model.3.conv.bias\", \"model.model.4.cv1.conv.bias\", \"model.model.4.cv2.conv.bias\", \"model.model.4.m.0.cv1.conv.bias\", \"model.model.4.m.0.cv2.conv.bias\", \"model.model.4.m.1.cv1.conv.bias\", \"model.model.4.m.1.cv2.conv.bias\", \"model.model.5.conv.bias\", \"model.model.6.cv1.conv.bias\", \"model.model.6.cv2.conv.bias\", \"model.model.6.m.0.cv1.conv.bias\", \"model.model.6.m.0.cv2.conv.bias\", \"model.model.6.m.1.cv1.conv.bias\", \"model.model.6.m.1.cv2.conv.bias\", \"model.model.7.conv.bias\", \"model.model.8.cv1.conv.bias\", \"model.model.8.cv2.conv.bias\", \"model.model.8.m.0.cv1.conv.bias\", \"model.model.8.m.0.cv2.conv.bias\", \"model.model.9.cv1.conv.bias\", \"model.model.9.cv2.conv.bias\", \"model.model.12.cv1.conv.bias\", \"model.model.12.cv2.conv.bias\", \"model.model.12.m.0.cv1.conv.bias\", \"model.model.12.m.0.cv2.conv.bias\", \"model.model.15.cv1.conv.bias\", \"model.model.15.cv2.conv.bias\", \"model.model.15.m.0.cv1.conv.bias\", \"model.model.15.m.0.cv2.conv.bias\", \"model.model.16.conv.bias\", \"model.model.18.cv1.conv.bias\", \"model.model.18.cv2.conv.bias\", \"model.model.18.m.0.cv1.conv.bias\", \"model.model.18.m.0.cv2.conv.bias\", \"model.model.19.conv.bias\", \"model.model.21.cv1.conv.bias\", \"model.model.21.cv2.conv.bias\", \"model.model.21.m.0.cv1.conv.bias\", \"model.model.21.m.0.cv2.conv.bias\", \"model.model.22.cv2.0.0.conv.bias\", \"model.model.22.cv2.0.1.conv.bias\", \"model.model.22.cv2.1.0.conv.bias\", \"model.model.22.cv2.1.1.conv.bias\", \"model.model.22.cv2.2.0.conv.bias\", \"model.model.22.cv2.2.1.conv.bias\", \"model.model.22.cv3.0.0.conv.bias\", \"model.model.22.cv3.0.1.conv.bias\", \"model.model.22.cv3.1.0.conv.bias\", \"model.model.22.cv3.1.1.conv.bias\", \"model.model.22.cv3.2.0.conv.bias\", \"model.model.22.cv3.2.1.conv.bias\". \n\tsize mismatch for model.model.22.cv3.0.0.conv.weight: copying a param with shape torch.Size([64, 64, 3, 3]) from checkpoint, the shape in current model is torch.Size([80, 64, 3, 3]).\n\tsize mismatch for model.model.22.cv3.0.1.conv.weight: copying a param with shape torch.Size([64, 64, 3, 3]) from checkpoint, the shape in current model is torch.Size([80, 80, 3, 3]).\n\tsize mismatch for model.model.22.cv3.0.2.weight: copying a param with shape torch.Size([4, 64, 1, 1]) from checkpoint, the shape in current model is torch.Size([80, 80, 1, 1]).\n\tsize mismatch for model.model.22.cv3.0.2.bias: copying a param with shape torch.Size([4]) from checkpoint, the shape in current model is torch.Size([80]).\n\tsize mismatch for model.model.22.cv3.1.0.conv.weight: copying a param with shape torch.Size([64, 128, 3, 3]) from checkpoint, the shape in current model is torch.Size([80, 128, 3, 3]).\n\tsize mismatch for model.model.22.cv3.1.1.conv.weight: copying a param with shape torch.Size([64, 64, 3, 3]) from checkpoint, the shape in current model is torch.Size([80, 80, 3, 3]).\n\tsize mismatch for model.model.22.cv3.1.2.weight: copying a param with shape torch.Size([4, 64, 1, 1]) from checkpoint, the shape in current model is torch.Size([80, 80, 1, 1]).\n\tsize mismatch for model.model.22.cv3.1.2.bias: copying a param with shape torch.Size([4]) from checkpoint, the shape in current model is torch.Size([80]).\n\tsize mismatch for model.model.22.cv3.2.0.conv.weight: copying a param with shape torch.Size([64, 256, 3, 3]) from checkpoint, the shape in current model is torch.Size([80, 256, 3, 3]).\n\tsize mismatch for model.model.22.cv3.2.1.conv.weight: copying a param with shape torch.Size([64, 64, 3, 3]) from checkpoint, the shape in current model is torch.Size([80, 80, 3, 3]).\n\tsize mismatch for model.model.22.cv3.2.2.weight: copying a param with shape torch.Size([4, 64, 1, 1]) from checkpoint, the shape in current model is torch.Size([80, 80, 1, 1]).\n\tsize mismatch for model.model.22.cv3.2.2.bias: copying a param with shape torch.Size([4]) from checkpoint, the shape in current model is torch.Size([80])."
     ]
    }
   ],
   "source": [
    "# model = YOLO(\"yolov8n.pt\")\n",
    "# model.load_state_dict(torch.load('yolov8n-custom-weights.pt'))\n",
    "model = YOLO(\"yolov8n.pt\")\n",
    "model.load_state_dict(torch.load(\"yolov8n-custom-weights.pt\", map_location=torch.device('cpu')))\n",
    "model.eval()\n",
    "# results = model.predict(source=\"0\", show=True)"
   ]
  }
 ],
 "metadata": {
  "kernelspec": {
   "display_name": "Python 3",
   "language": "python",
   "name": "python3"
  },
  "language_info": {
   "codemirror_mode": {
    "name": "ipython",
    "version": 3
   },
   "file_extension": ".py",
   "mimetype": "text/x-python",
   "name": "python",
   "nbconvert_exporter": "python",
   "pygments_lexer": "ipython3",
   "version": "3.9.7"
  },
  "orig_nbformat": 4
 },
 "nbformat": 4,
 "nbformat_minor": 2
}
